{
 "cells": [
  {
   "cell_type": "code",
   "execution_count": null,
   "metadata": {},
   "outputs": [],
   "source": [
    "import datasets\n",
    "import matplotlib.pyplot as plt\n",
    "import numpy as np\n",
    "from transformers import AutoTokenizer\n",
    "from tqdm import tqdm"
   ]
  },
  {
   "cell_type": "code",
   "execution_count": null,
   "metadata": {},
   "outputs": [],
   "source": [
    "# Load datasets\n",
    "trivia_qa_data = datasets.load_dataset(\"mandarjoshi/trivia_qa\", \"rc.wikipedia\",)[\"validation\"]\n",
    "repliqa_data = datasets.load_dataset(\"ServiceNow/repliqa\")[\"repliqa_0\"]\n",
    "\n",
    "# Initialize tokenizer\n",
    "tokenizer = AutoTokenizer.from_pretrained(\"bert-base-uncased\")"
   ]
  },
  {
   "cell_type": "code",
   "execution_count": null,
   "metadata": {},
   "outputs": [],
   "source": [
    "def get_lengths(text):\n",
    "    \"\"\"Calculate different length metrics for a given text.\"\"\"\n",
    "    return {\n",
    "        'char_length': len(text),\n",
    "        'word_length': len(text.split()),\n",
    "        'token_length': len(tokenizer.encode(text))\n",
    "    }\n",
    "\n",
    "def analyze_lengths(dataset, column_path, title_prefix):\n",
    "    \"\"\"Analyze and plot length distributions.\"\"\"\n",
    "    # Extract and join texts based on column path\n",
    "    if isinstance(column_path, list):\n",
    "        texts = [(\"\\n\\n\").join(item[column_path[0]][column_path[1]]) for item in dataset]\n",
    "    else:\n",
    "        texts = [item[column_path] for item in dataset]\n",
    "\n",
    "    # Calculate lengths with progress bar\n",
    "    print(f\"\\nComputing lengths for {title_prefix}...\")\n",
    "    lengths = [get_lengths(text) for text in tqdm(texts)]\n",
    "\n",
    "    # Separate metrics\n",
    "    metrics_data = {\n",
    "        'Character Count': [l['char_length'] for l in lengths],\n",
    "        'Word Count': [l['word_length'] for l in lengths],\n",
    "        'Token Count': [l['token_length'] for l in lengths]\n",
    "    }\n",
    "\n",
    "    # Create subplots\n",
    "    fig, axes = plt.subplots(1, 3, figsize=(15, 5))\n",
    "    fig.suptitle(f'{title_prefix} Length Distributions')\n",
    "\n",
    "    # Plot histograms\n",
    "    for ax, (metric_name, data) in zip(axes, metrics_data.items()):\n",
    "        ax.hist(data, bins=50, edgecolor='black')\n",
    "        ax.set_title(f'{metric_name} Distribution')\n",
    "        ax.set_xlabel(metric_name)\n",
    "        ax.set_ylabel('Frequency')\n",
    "\n",
    "        # Add mean and median annotations\n",
    "        mean_val = np.mean(data)\n",
    "        median_val = np.median(data)\n",
    "        ax.axvline(mean_val, color='red', linestyle='--', alpha=0.5)\n",
    "        ax.axvline(median_val, color='green', linestyle='--', alpha=0.5)\n",
    "        ax.legend(['Mean', 'Median'])\n",
    "\n",
    "    plt.tight_layout()\n",
    "\n",
    "    # Print summary statistics\n",
    "    print(f\"\\nSummary Statistics for {title_prefix}:\")\n",
    "    for metric_name, data in metrics_data.items():\n",
    "        print(f\"\\n{metric_name}:\")\n",
    "        print(f\"Mean: {np.mean(data):.2f}\")\n",
    "        print(f\"Median: {np.median(data):.2f}\")\n",
    "        print(f\"Min: {np.min(data)}\")\n",
    "        print(f\"Max: {np.max(data)}\")\n",
    "\n",
    "    return fig"
   ]
  },
  {
   "cell_type": "code",
   "execution_count": null,
   "metadata": {},
   "outputs": [],
   "source": [
    "trivia_qa_fig = analyze_lengths(\n",
    "    trivia_qa_data,\n",
    "    ['entity_pages', 'wiki_context'],\n",
    "    'TriviaQA Wikipedia Context'\n",
    ")"
   ]
  },
  {
   "cell_type": "code",
   "execution_count": null,
   "metadata": {},
   "outputs": [],
   "source": [
    "repliqa_fig = analyze_lengths(\n",
    "    repliqa_data,\n",
    "    'document_extracted',\n",
    "    'RepliQA Document'\n",
    ")"
   ]
  }
 ],
 "metadata": {
  "language_info": {
   "name": "python"
  }
 },
 "nbformat": 4,
 "nbformat_minor": 2
}
