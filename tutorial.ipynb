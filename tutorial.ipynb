{
 "cells": [
  {
   "cell_type": "markdown",
   "metadata": {},
   "source": [
    "# Mini-tutorial: RepLiQA samples with associated PDFs\n",
    "\n",
    "The present tutorial assumes that the reader is familiar with the [`datasets`](https://huggingface.co/docs/datasets) library from Hugging Face.\n",
    "\n",
    "## Everything except the PDFs\n",
    "\n",
    "All extracted text and associated annotations for all the released RepLiQA splits are accessible through standard commands."
   ]
  },
  {
   "cell_type": "code",
   "execution_count": null,
   "metadata": {},
   "outputs": [],
   "source": [
    "import datasets\n",
    "cache_dir = './hf_cache'  # Edit for wherever you wish the cache to be.\n",
    "repliqa = datasets.load_dataset(\"ServiceNow/repliqa\", cache_dir=cache_dir)\n",
    "repliqa"
   ]
  },
  {
   "cell_type": "markdown",
   "metadata": {},
   "source": [
    "Only `repliqa_0` was released at the time of writing these lines, so running the above gave:\n",
    "```\n",
    "DatasetDict({\n",
    "    repliqa_0: Dataset({\n",
    "        features: ['document_id', 'document_topic', 'document_path', 'document_extracted', 'question_id', 'question', 'answer', 'long_answer'],\n",
    "        num_rows: 17955\n",
    "    })\n",
    "})\n",
    "```\n",
    "The first element (i.e., `repliqa[\"repliqa_0\"][0]`) is:\n",
    "```\n",
    " {\n",
    "    \"document_id\": \"kiqpsbuw\",\n",
    "    \"document_topic\": \"Small and Medium Enterprises\",\n",
    "    \"document_path\": 'pdfs/repliqa_0/kiqpsbuw.pdf',\n",
    "    \"document_extracted': 'Founder Journeys: The Personal and Professional Journey of SME Entrepreneurs \\n\\nFuzhou is a vibrant hub of entrepreneurial spirit and innovation, and stories of resilience, creativity, and determination weaved throughout small and medium enterprises (SMEs). [...]',\n",
    "    'question_id': 'kiqpsbuw-q1',\n",
    "    'question': 'What motivated Zhao Wei to found WeTech?',\n",
    "    'answer': 'Zhao was motivated by his belief in doing well by doing good.',\n",
    "    'long_answer': 'My motivation comes from doing well by doing good, explained Zhao while sipping\\nlocally-sourced green tea as his energy booster. His work contributes to protecting the earth\\nfor future generations - something which kept him going even when times got difficult.'\n",
    "}\n",
    "```\n",
    "Note that the full `\"document_extracted\"` field is 6452 characters long and has thus been truncated above.\n",
    "\n",
    "## Accessing the PDFs\n",
    "\n",
    "The PDFs are also stored on Hugging Face, but extra steps are required to actually get them. This tutorial proposes two main solutions.\n",
    "\n",
    "### Approach 1: get the PDFs one-by-one"
   ]
  },
  {
   "cell_type": "code",
   "execution_count": null,
   "metadata": {},
   "outputs": [],
   "source": [
    "import os\n",
    "import huggingface_hub\n",
    "\n",
    "def get_path_to_local_pdf_cache(sample: dict[str, str]) -> str:\n",
    "    filename = os.path.basename(sample[\"document_path\"])\n",
    "    subfolder = os.path.dirname(sample[\"document_path\"])\n",
    "    return huggingface_hub.hf_hub_download(repo_id=\"ServiceNow/repliqa\", filename=filename, subfolder=subfolder, repo_type=\"dataset\", cache_dir=cache_dir)\n",
    "\n",
    "path_to_local_pdf_cache = get_path_to_local_pdf_cache(repliqa[\"repliqa_0\"][0])\n",
    "path_to_local_pdf_cache"
   ]
  },
  {
   "cell_type": "markdown",
   "metadata": {},
   "source": [
    "The PDF associated with the 0-th sample of `repliqa_0` should now be available at `path_to_local_pdf_cache`. Note that `repliqa[\"repliqa_0\"][1]` uses the same document as `repliqa[\"repliqa_0\"][0]`, so calling `get_path_to_local_pdf_cache(repliqa[\"repliqa_0\"][1])` will not download the document again; storage is handled by Hugging Face's caching mechanism.\n",
    "\n",
    "### Approach 2: get all PDFs at once"
   ]
  },
  {
   "cell_type": "code",
   "execution_count": null,
   "metadata": {},
   "outputs": [],
   "source": [
    "local_dir = \"./repliqa\"  # Edit for wherever you wish to store the snapshot.\n",
    "snapshot_path = huggingface_hub.snapshot_download(repo_id=\"ServiceNow/repliqa\", repo_type=\"dataset\", local_dir=local_dir, cache_dir=cache_dir)\n",
    "\n",
    "def get_path_to_local_pdf_snapshot(sample: dict[str, str]) -> str:\n",
    "    return os.path.join(snapshot_path, sample[\"document_path\"])\n",
    "\n",
    "path_to_local_pdf_snapshot = get_path_to_local_pdf_snapshot(repliqa[\"repliqa_0\"][0])\n",
    "path_to_local_pdf_snapshot"
   ]
  },
  {
   "cell_type": "markdown",
   "metadata": {},
   "source": [
    "Here all PDFs are downloaded to `local_dir` (i.e., not in Hugging Face's cache). Note that if the call to `huggingface_hub.snapshot_download` above fails, you should try running the same command again: it should quickly get back to where it was and continue downloading from there."
   ]
  }
 ],
 "metadata": {
  "kernelspec": {
   "display_name": "dssk",
   "language": "python",
   "name": "python3"
  },
  "language_info": {
   "codemirror_mode": {
    "name": "ipython",
    "version": 3
   },
   "file_extension": ".py",
   "mimetype": "text/x-python",
   "name": "python",
   "nbconvert_exporter": "python",
   "pygments_lexer": "ipython3",
   "version": "3.10.13"
  }
 },
 "nbformat": 4,
 "nbformat_minor": 2
}
