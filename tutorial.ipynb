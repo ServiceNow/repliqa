{
 "cells": [
  {
   "cell_type": "markdown",
   "metadata": {},
   "source": [
    "# Mini-tutorial: Accessing RepLiQA samples with PDFs\n",
    "\n",
    "*(placeholder; to be updated)*"
   ]
  }
 ],
 "metadata": {
  "kernelspec": {
   "display_name": "dssk",
   "language": "python",
   "name": "python3"
  },
  "language_info": {
   "codemirror_mode": {
    "name": "ipython",
    "version": 3
   },
   "file_extension": ".py",
   "mimetype": "text/x-python",
   "name": "python",
   "nbconvert_exporter": "python",
   "pygments_lexer": "ipython3",
   "version": "3.10.13"
  }
 },
 "nbformat": 4,
 "nbformat_minor": 2
}
